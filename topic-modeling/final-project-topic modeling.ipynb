{
 "cells": [
  {
   "cell_type": "code",
   "execution_count": 1,
   "metadata": {
    "collapsed": true
   },
   "outputs": [],
   "source": [
    "import pandas as pd"
   ]
  },
  {
   "cell_type": "code",
   "execution_count": 4,
   "metadata": {
    "collapsed": true
   },
   "outputs": [],
   "source": [
    "import numpy as np"
   ]
  },
  {
   "cell_type": "code",
   "execution_count": 15,
   "metadata": {
    "collapsed": true
   },
   "outputs": [],
   "source": [
    "data = pd.read_csv(\"people.csv\")"
   ]
  },
  {
   "cell_type": "code",
   "execution_count": 23,
   "metadata": {},
   "outputs": [
    {
     "data": {
      "text/plain": [
       "'digby morrell born 10 october 1979 is a former australian rules footballer who played with the kangaroos and carlton in the australian football league aflfrom western australia morrell played his early senior football for west perth his 44game senior career for the falcons spanned 19982000 and he was the clubs leading goalkicker in 2000 at the age of 21 morrell was recruited to the australian football league by the kangaroos football club with its third round selection in the 2001 afl rookie draft as a forward he twice kicked five goals during his time with the kangaroos the first was in a losing cause against sydney in 2002 and the other the following season in a drawn game against brisbaneafter the 2003 season morrell was traded along with david teague to the carlton football club in exchange for corey mckernan he played 32 games for the blues before being delisted at the end of 2005 he continued to play victorian football league vfl football with the northern bullants carltons vflaffiliate in 2006 and acted as playing assistant coach in 2007 in 2008 he shifted to the box hill hawks before retiring from playing at the end of the season from 2009 until 2013 morrell was the senior coach of the strathmore football club in the essendon district football league leading the club to the 2011 premier division premiership since 2014 he has coached the west coburg football club also in the edflhe currently teaches physical education at parade college in melbourne'"
      ]
     },
     "execution_count": 23,
     "metadata": {},
     "output_type": "execute_result"
    }
   ],
   "source": [
    "data[data[\"name\"] == 'digby morrell']['text'].iloc[0]"
   ]
  },
  {
   "cell_type": "code",
   "execution_count": 8,
   "metadata": {},
   "outputs": [
    {
     "data": {
      "text/plain": [
       "array(['digby morrell', 'alfred j. lewy', 'harpdog brown', ...,\n",
       "       'david cass (footballer)', 'keith elias', 'fawaz damrah'],\n",
       "      dtype='<U70')"
      ]
     },
     "execution_count": 8,
     "metadata": {},
     "output_type": "execute_result"
    }
   ],
   "source": [
    "np.char.lower(np.array(data[\"name\"]).astype(str))"
   ]
  },
  {
   "cell_type": "code",
   "execution_count": 7,
   "metadata": {},
   "outputs": [
    {
     "data": {
      "text/plain": [
       "array(['Digby Morrell', 'Alfred J. Lewy', 'Harpdog Brown', ...,\n",
       "       'David Cass (footballer)', 'Keith Elias', 'Fawaz Damrah'],\n",
       "      dtype='<U70')"
      ]
     },
     "execution_count": 7,
     "metadata": {},
     "output_type": "execute_result"
    }
   ],
   "source": [
    "np.array(data[\"name\"]).astype(str)"
   ]
  },
  {
   "cell_type": "code",
   "execution_count": 79,
   "metadata": {},
   "outputs": [
    {
     "data": {
      "text/html": [
       "<div>\n",
       "<style>\n",
       "    .dataframe thead tr:only-child th {\n",
       "        text-align: right;\n",
       "    }\n",
       "\n",
       "    .dataframe thead th {\n",
       "        text-align: left;\n",
       "    }\n",
       "\n",
       "    .dataframe tbody tr th {\n",
       "        vertical-align: top;\n",
       "    }\n",
       "</style>\n",
       "<table border=\"1\" class=\"dataframe\">\n",
       "  <thead>\n",
       "    <tr style=\"text-align: right;\">\n",
       "      <th></th>\n",
       "      <th>URI</th>\n",
       "      <th>name</th>\n",
       "      <th>text</th>\n",
       "    </tr>\n",
       "  </thead>\n",
       "  <tbody>\n",
       "    <tr>\n",
       "      <th>0</th>\n",
       "      <td>&lt;http://dbpedia.org/resource/Digby_Morrell&gt;</td>\n",
       "      <td>Digby Morrell</td>\n",
       "      <td>digby morrell born 10 october 1979 is a former...</td>\n",
       "    </tr>\n",
       "    <tr>\n",
       "      <th>1</th>\n",
       "      <td>&lt;http://dbpedia.org/resource/Alfred_J._Lewy&gt;</td>\n",
       "      <td>Alfred J. Lewy</td>\n",
       "      <td>alfred j lewy aka sandy lewy graduated from un...</td>\n",
       "    </tr>\n",
       "    <tr>\n",
       "      <th>2</th>\n",
       "      <td>&lt;http://dbpedia.org/resource/Harpdog_Brown&gt;</td>\n",
       "      <td>Harpdog Brown</td>\n",
       "      <td>harpdog brown is a singer and harmonica player...</td>\n",
       "    </tr>\n",
       "    <tr>\n",
       "      <th>3</th>\n",
       "      <td>&lt;http://dbpedia.org/resource/Franz_Rottensteiner&gt;</td>\n",
       "      <td>Franz Rottensteiner</td>\n",
       "      <td>franz rottensteiner born in waidmannsfeld lowe...</td>\n",
       "    </tr>\n",
       "    <tr>\n",
       "      <th>4</th>\n",
       "      <td>&lt;http://dbpedia.org/resource/G-Enka&gt;</td>\n",
       "      <td>G-Enka</td>\n",
       "      <td>henry krvits born 30 december 1974 in tallinn ...</td>\n",
       "    </tr>\n",
       "  </tbody>\n",
       "</table>\n",
       "</div>"
      ],
      "text/plain": [
       "                                                 URI                 name  \\\n",
       "0        <http://dbpedia.org/resource/Digby_Morrell>        Digby Morrell   \n",
       "1       <http://dbpedia.org/resource/Alfred_J._Lewy>       Alfred J. Lewy   \n",
       "2        <http://dbpedia.org/resource/Harpdog_Brown>        Harpdog Brown   \n",
       "3  <http://dbpedia.org/resource/Franz_Rottensteiner>  Franz Rottensteiner   \n",
       "4               <http://dbpedia.org/resource/G-Enka>               G-Enka   \n",
       "\n",
       "                                                text  \n",
       "0  digby morrell born 10 october 1979 is a former...  \n",
       "1  alfred j lewy aka sandy lewy graduated from un...  \n",
       "2  harpdog brown is a singer and harmonica player...  \n",
       "3  franz rottensteiner born in waidmannsfeld lowe...  \n",
       "4  henry krvits born 30 december 1974 in tallinn ...  "
      ]
     },
     "execution_count": 79,
     "metadata": {},
     "output_type": "execute_result"
    }
   ],
   "source": [
    "data.head()"
   ]
  },
  {
   "cell_type": "code",
   "execution_count": 80,
   "metadata": {},
   "outputs": [
    {
     "data": {
      "text/plain": [
       "(59071, 3)"
      ]
     },
     "execution_count": 80,
     "metadata": {},
     "output_type": "execute_result"
    }
   ],
   "source": [
    "data.shape"
   ]
  },
  {
   "cell_type": "code",
   "execution_count": null,
   "metadata": {
    "collapsed": true
   },
   "outputs": [],
   "source": [
    "obama = data[data[\"name\"] == 'Barack Obama']"
   ]
  },
  {
   "cell_type": "code",
   "execution_count": null,
   "metadata": {
    "collapsed": true
   },
   "outputs": [],
   "source": [
    "obama[\"text\"].iloc[0]"
   ]
  },
  {
   "cell_type": "code",
   "execution_count": null,
   "metadata": {
    "collapsed": true
   },
   "outputs": [],
   "source": [
    "import metapy"
   ]
  },
  {
   "cell_type": "code",
   "execution_count": null,
   "metadata": {
    "collapsed": true
   },
   "outputs": [],
   "source": [
    "metapy.log_to_stderr()"
   ]
  },
  {
   "cell_type": "markdown",
   "metadata": {},
   "source": [
    "# Tokenlize"
   ]
  },
  {
   "cell_type": "code",
   "execution_count": null,
   "metadata": {
    "collapsed": true
   },
   "outputs": [],
   "source": [
    "doc = metapy.index.Document()\n",
    "doc.content(obama[\"text\"].iloc[0])"
   ]
  },
  {
   "cell_type": "code",
   "execution_count": null,
   "metadata": {
    "collapsed": true
   },
   "outputs": [],
   "source": [
    "tok = metapy.analyzers.ICUTokenizer()"
   ]
  },
  {
   "cell_type": "code",
   "execution_count": null,
   "metadata": {
    "collapsed": true
   },
   "outputs": [],
   "source": [
    "tok = metapy.analyzers.ICUTokenizer(suppress_tags=True)\n",
    "tok.set_content(doc.content())\n",
    "tokens = [token for token in tok]\n",
    "print tokens"
   ]
  },
  {
   "cell_type": "markdown",
   "metadata": {},
   "source": [
    "# Remove Stopword and Stemming"
   ]
  },
  {
   "cell_type": "code",
   "execution_count": null,
   "metadata": {
    "collapsed": true
   },
   "outputs": [],
   "source": [
    "tok = metapy.analyzers.ListFilter(tok, \"lemur-stopwords.txt\", metapy.analyzers.ListFilter.Type.Reject)\n",
    "tok.set_content(doc.content())\n",
    "tokens = [token for token in tok]\n",
    "print(tokens)"
   ]
  },
  {
   "cell_type": "code",
   "execution_count": null,
   "metadata": {
    "collapsed": true
   },
   "outputs": [],
   "source": [
    "tok = metapy.analyzers.Porter2Filter(tok)\n",
    "tok.set_content(doc.content())\n",
    "tokens = [token for token in tok]\n",
    "print(tokens)"
   ]
  },
  {
   "cell_type": "markdown",
   "metadata": {},
   "source": [
    "# Uni-Grams"
   ]
  },
  {
   "cell_type": "code",
   "execution_count": null,
   "metadata": {
    "collapsed": true
   },
   "outputs": [],
   "source": [
    "tok = metapy.analyzers.ICUTokenizer(suppress_tags = True)\n",
    "tok = metapy.analyzers.LowercaseFilter(tok)\n",
    "tok.set_content(doc.content())\n",
    "ana = metapy.analyzers.NGramWordAnalyzer(1, tok)\n",
    "unigrams = ana.analyze(doc)\n",
    "print(unigrams)"
   ]
  },
  {
   "cell_type": "markdown",
   "metadata": {},
   "source": [
    "# Index prepare"
   ]
  },
  {
   "cell_type": "code",
   "execution_count": null,
   "metadata": {
    "collapsed": true
   },
   "outputs": [],
   "source": [
    "with open(\"./data/data.dat\", \"a\") as text_file:\n",
    "    for i in data[\"name\"]:\n",
    "        try:\n",
    "            i = i.replace(\"*\",\"\")\n",
    "            context = str(data[data[\"name\"] == i][\"text\"].iloc[0])\n",
    "            text_file.write(\" %s \\n\" % context)\n",
    "        except:\n",
    "            skip = True"
   ]
  },
  {
   "cell_type": "markdown",
   "metadata": {},
   "source": [
    "# Topic modeling"
   ]
  },
  {
   "cell_type": "code",
   "execution_count": 6,
   "metadata": {
    "collapsed": true
   },
   "outputs": [],
   "source": [
    "fidx = metapy.index.make_forward_index('people-config.toml')"
   ]
  },
  {
   "cell_type": "code",
   "execution_count": null,
   "metadata": {
    "collapsed": true
   },
   "outputs": [],
   "source": [
    "dset = metapy.learn.Dataset(fidx)"
   ]
  },
  {
   "cell_type": "markdown",
   "metadata": {},
   "source": [
    "### 2 Topic"
   ]
  },
  {
   "cell_type": "code",
   "execution_count": null,
   "metadata": {
    "collapsed": true,
    "scrolled": true
   },
   "outputs": [],
   "source": [
    "lda_inf = metapy.topics.LDACollapsedVB(dset, num_topics=2, alpha=1.0, beta=0.01)\n",
    "lda_inf.run(num_iters=1000)"
   ]
  },
  {
   "cell_type": "code",
   "execution_count": null,
   "metadata": {
    "collapsed": true
   },
   "outputs": [],
   "source": [
    "lda_inf.save('lda-cvb0')"
   ]
  },
  {
   "cell_type": "code",
   "execution_count": 44,
   "metadata": {
    "collapsed": true
   },
   "outputs": [],
   "source": [
    "model = metapy.topics.TopicModel('lda-cvb0')"
   ]
  },
  {
   "cell_type": "code",
   "execution_count": 45,
   "metadata": {},
   "outputs": [
    {
     "data": {
      "text/plain": [
       "[(327105, 0.009785797010899941),\n",
       " (283479, 0.0071463531879504116),\n",
       " (148007, 0.005922879414277428),\n",
       " (350829, 0.0059019653303974615),\n",
       " (51910, 0.005900708745190318),\n",
       " (376515, 0.005575504069944809),\n",
       " (418367, 0.004955867270834303),\n",
       " (291712, 0.004627750146476143),\n",
       " (160720, 0.004438954237584389),\n",
       " (238525, 0.004363857906685078)]"
      ]
     },
     "execution_count": 45,
     "metadata": {},
     "output_type": "execute_result"
    }
   ],
   "source": [
    "model.top_k(tid=0)"
   ]
  },
  {
   "cell_type": "code",
   "execution_count": 46,
   "metadata": {},
   "outputs": [
    {
     "data": {
      "text/plain": [
       "[('play', 0.06938529502041213),\n",
       " ('music', 0.05124147885954711),\n",
       " ('season', 0.04096896697490493),\n",
       " ('record', 0.038645531914622167),\n",
       " ('film', 0.03617550962295213),\n",
       " ('game', 0.030924819548928895),\n",
       " ('leagu', 0.029866449415717256),\n",
       " ('album', 0.026202557127503023),\n",
       " ('championship', 0.020637510275398174),\n",
       " ('footbal', 0.02062173657119315)]"
      ]
     },
     "execution_count": 46,
     "metadata": {},
     "output_type": "execute_result"
    }
   ],
   "source": [
    "scorer = metapy.topics.BLTermScorer(model)\n",
    "[(fidx.term_text(pr[0]), pr[1]) for pr in model.top_k(tid=0, scorer=scorer)]"
   ]
  },
  {
   "cell_type": "code",
   "execution_count": 47,
   "metadata": {},
   "outputs": [
    {
     "data": {
      "text/plain": [
       "[('elect', 0.030420555534287796),\n",
       " ('presid', 0.024517339067962884),\n",
       " ('research', 0.021354025886095473),\n",
       " ('parti', 0.01872255360627406),\n",
       " ('polit', 0.017845238657655138),\n",
       " ('professor', 0.017500141787774592),\n",
       " ('law', 0.017468957221604686),\n",
       " ('scienc', 0.01687604853878666),\n",
       " ('institut', 0.015306113442293934),\n",
       " ('govern', 0.015218302276223228)]"
      ]
     },
     "execution_count": 47,
     "metadata": {},
     "output_type": "execute_result"
    }
   ],
   "source": [
    "[(fidx.term_text(pr[0]), pr[1]) for pr in model.top_k(tid=1, scorer=scorer)]"
   ]
  },
  {
   "cell_type": "code",
   "execution_count": 48,
   "metadata": {},
   "outputs": [
    {
     "data": {
      "text/plain": [
       "<metapy.stats.Multinomial {0: 0.497348, 1: 0.502652}>"
      ]
     },
     "execution_count": 48,
     "metadata": {},
     "output_type": "execute_result"
    }
   ],
   "source": [
    "model.topic_distribution(0)"
   ]
  },
  {
   "cell_type": "code",
   "execution_count": 49,
   "metadata": {},
   "outputs": [
    {
     "data": {
      "text/plain": [
       "<metapy.stats.Multinomial {0: 0.083592, 1: 0.916408}>"
      ]
     },
     "execution_count": 49,
     "metadata": {},
     "output_type": "execute_result"
    }
   ],
   "source": [
    "model.topic_distribution(1)"
   ]
  },
  {
   "cell_type": "code",
   "execution_count": 50,
   "metadata": {},
   "outputs": [
    {
     "data": {
      "text/plain": [
       "<metapy.stats.Multinomial {0: 0.983111, 1: 0.016889}>"
      ]
     },
     "execution_count": 50,
     "metadata": {},
     "output_type": "execute_result"
    }
   ],
   "source": [
    "model.topic_distribution(1000)"
   ]
  },
  {
   "cell_type": "markdown",
   "metadata": {
    "collapsed": true
   },
   "source": [
    "### 3 Topics"
   ]
  },
  {
   "cell_type": "markdown",
   "metadata": {},
   "source": [
    "lda_inf = metapy.topics.LDACollapsedVB(dset, num_topics=3, alpha=1.0, beta=0.01)\n",
    "lda_inf.run(num_iters=1000)\n",
    "lda_inf.save('lda-cvb3')"
   ]
  },
  {
   "cell_type": "code",
   "execution_count": 7,
   "metadata": {
    "collapsed": true
   },
   "outputs": [],
   "source": [
    "model3 = metapy.topics.TopicModel('lda-cvb3')"
   ]
  },
  {
   "cell_type": "code",
   "execution_count": 8,
   "metadata": {},
   "outputs": [
    {
     "data": {
      "text/plain": [
       "[('music', 0.09169856792557862),\n",
       " ('film', 0.07429887687220926),\n",
       " ('album', 0.04527100249155236),\n",
       " ('artist', 0.03588293693241695),\n",
       " ('band', 0.03239947019198711),\n",
       " ('art', 0.03030812769185176),\n",
       " ('produc', 0.02796352004903616),\n",
       " ('song', 0.02711576987130411),\n",
       " ('record', 0.026060539375978443),\n",
       " ('festiv', 0.023501562162664413)]"
      ]
     },
     "execution_count": 8,
     "metadata": {},
     "output_type": "execute_result"
    }
   ],
   "source": [
    "scorer = metapy.topics.BLTermScorer(model3)\n",
    "[(fidx.term_text(pr[0]), pr[1]) for pr in model3.top_k(tid=0, scorer=scorer)]"
   ]
  },
  {
   "cell_type": "code",
   "execution_count": 9,
   "metadata": {},
   "outputs": [
    {
     "data": {
      "text/plain": [
       "[('elect', 0.05030631508000383),\n",
       " ('presid', 0.03960303917558564),\n",
       " ('research', 0.03463397865905549),\n",
       " ('law', 0.028550523488983792),\n",
       " ('govern', 0.025058447856021182),\n",
       " ('parti', 0.02273572285076134),\n",
       " ('minist', 0.02253303000505191),\n",
       " ('polit', 0.021824747024331792),\n",
       " ('committe', 0.021064927035445713),\n",
       " ('professor', 0.017727376262357243)]"
      ]
     },
     "execution_count": 9,
     "metadata": {},
     "output_type": "execute_result"
    }
   ],
   "source": [
    "scorer = metapy.topics.BLTermScorer(model3)\n",
    "[(fidx.term_text(pr[0]), pr[1]) for pr in model3.top_k(tid=1, scorer=scorer)]"
   ]
  },
  {
   "cell_type": "code",
   "execution_count": 10,
   "metadata": {},
   "outputs": [
    {
     "data": {
      "text/plain": [
       "[('season', 0.11557321205151004),\n",
       " ('leagu', 0.09364373739693062),\n",
       " ('game', 0.08667422925714163),\n",
       " ('play', 0.08329153768792841),\n",
       " ('team', 0.07488070272419318),\n",
       " ('footbal', 0.06297453282344603),\n",
       " ('championship', 0.062200003024505485),\n",
       " ('coach', 0.06095219214951442),\n",
       " ('player', 0.03580290397253716),\n",
       " ('finish', 0.0349529629361811)]"
      ]
     },
     "execution_count": 10,
     "metadata": {},
     "output_type": "execute_result"
    }
   ],
   "source": [
    "scorer = metapy.topics.BLTermScorer(model3)\n",
    "[(fidx.term_text(pr[0]), pr[1]) for pr in model3.top_k(tid=2, scorer=scorer)]"
   ]
  },
  {
   "cell_type": "code",
   "execution_count": 11,
   "metadata": {},
   "outputs": [
    {
     "data": {
      "text/plain": [
       "<metapy.stats.Multinomial {0: 0.377516, 1: 0.392771, 2: 0.229713}>"
      ]
     },
     "execution_count": 11,
     "metadata": {},
     "output_type": "execute_result"
    }
   ],
   "source": [
    "model3.topic_distribution(0)"
   ]
  },
  {
   "cell_type": "code",
   "execution_count": 12,
   "metadata": {},
   "outputs": [
    {
     "data": {
      "text/plain": [
       "<metapy.stats.Multinomial {0: 0.157031, 1: 0.811705, 2: 0.031264}>"
      ]
     },
     "execution_count": 12,
     "metadata": {},
     "output_type": "execute_result"
    }
   ],
   "source": [
    "model3.topic_distribution(1)"
   ]
  },
  {
   "cell_type": "code",
   "execution_count": 13,
   "metadata": {},
   "outputs": [
    {
     "data": {
      "text/plain": [
       "<metapy.stats.Multinomial {0: 0.014301, 1: 0.012469, 2: 0.973230}>"
      ]
     },
     "execution_count": 13,
     "metadata": {},
     "output_type": "execute_result"
    }
   ],
   "source": [
    "model3.topic_distribution(1000)"
   ]
  },
  {
   "cell_type": "markdown",
   "metadata": {},
   "source": [
    "### 4 Topics"
   ]
  },
  {
   "cell_type": "markdown",
   "metadata": {
    "collapsed": true
   },
   "source": [
    "lda_inf = metapy.topics.LDACollapsedVB(dset, num_topics=4, alpha=1.0, beta=0.01)\n",
    "lda_inf.run(num_iters=1000)\n",
    "lda_inf.save('lda-cvb4')"
   ]
  },
  {
   "cell_type": "code",
   "execution_count": 14,
   "metadata": {
    "collapsed": true
   },
   "outputs": [],
   "source": [
    "model4 = metapy.topics.TopicModel('lda-cvb4')"
   ]
  },
  {
   "cell_type": "code",
   "execution_count": 15,
   "metadata": {},
   "outputs": [
    {
     "data": {
      "text/plain": [
       "[('elect', 0.08897789477214402),\n",
       " ('parti', 0.05755335364093145),\n",
       " ('presid', 0.046899063344507),\n",
       " ('serv', 0.04257288026777284),\n",
       " ('law', 0.04187436600652317),\n",
       " ('minist', 0.041310148712478956),\n",
       " ('govern', 0.033253366189349265),\n",
       " ('offic', 0.03213095004751276),\n",
       " ('polit', 0.02717720027277465),\n",
       " ('court', 0.02674288213731779)]"
      ]
     },
     "execution_count": 15,
     "metadata": {},
     "output_type": "execute_result"
    }
   ],
   "source": [
    "scorer = metapy.topics.BLTermScorer(model4)\n",
    "[(fidx.term_text(pr[0]), pr[1]) for pr in model4.top_k(tid=0, scorer=scorer)]"
   ]
  },
  {
   "cell_type": "code",
   "execution_count": 16,
   "metadata": {},
   "outputs": [
    {
     "data": {
      "text/plain": [
       "[('book', 0.06829127520010303),\n",
       " ('research', 0.06153011016452292),\n",
       " ('art', 0.057236676594296654),\n",
       " ('publish', 0.05011590611795591),\n",
       " ('professor', 0.04353417841973739),\n",
       " ('univers', 0.043479649828075395),\n",
       " ('scienc', 0.034464923371558376),\n",
       " ('institut', 0.03044429738184895),\n",
       " ('journal', 0.027489167579242996),\n",
       " ('studi', 0.026301905912810952)]"
      ]
     },
     "execution_count": 16,
     "metadata": {},
     "output_type": "execute_result"
    }
   ],
   "source": [
    "scorer = metapy.topics.BLTermScorer(model4)\n",
    "[(fidx.term_text(pr[0]), pr[1]) for pr in model4.top_k(tid=1, scorer=scorer)]"
   ]
  },
  {
   "cell_type": "code",
   "execution_count": 17,
   "metadata": {},
   "outputs": [
    {
     "data": {
      "text/plain": [
       "[('play', 0.1161384101747569),\n",
       " ('season', 0.10976483862334463),\n",
       " ('leagu', 0.10840315353909313),\n",
       " ('team', 0.09494584780206905),\n",
       " ('game', 0.08670567509732785),\n",
       " ('footbal', 0.07299426670013531),\n",
       " ('championship', 0.07222726176144456),\n",
       " ('coach', 0.0707304271838699),\n",
       " ('player', 0.047326594909348374),\n",
       " ('cup', 0.04037521042506809)]"
      ]
     },
     "execution_count": 17,
     "metadata": {},
     "output_type": "execute_result"
    }
   ],
   "source": [
    "scorer = metapy.topics.BLTermScorer(model4)\n",
    "[(fidx.term_text(pr[0]), pr[1]) for pr in model4.top_k(tid=2, scorer=scorer)]"
   ]
  },
  {
   "cell_type": "code",
   "execution_count": 18,
   "metadata": {},
   "outputs": [
    {
     "data": {
      "text/plain": [
       "[('music', 0.13553445937561692),\n",
       " ('film', 0.10816639735459044),\n",
       " ('album', 0.06762199352551734),\n",
       " ('record', 0.05125213407484713),\n",
       " ('band', 0.04840303229704079),\n",
       " ('song', 0.04036783143356343),\n",
       " ('produc', 0.039849537157722326),\n",
       " ('play', 0.03327065780318017),\n",
       " ('perform', 0.03027760984197886),\n",
       " ('festiv', 0.029127831224422418)]"
      ]
     },
     "execution_count": 18,
     "metadata": {},
     "output_type": "execute_result"
    }
   ],
   "source": [
    "scorer = metapy.topics.BLTermScorer(model4)\n",
    "[(fidx.term_text(pr[0]), pr[1]) for pr in model4.top_k(tid=3, scorer=scorer)]"
   ]
  },
  {
   "cell_type": "code",
   "execution_count": 19,
   "metadata": {},
   "outputs": [
    {
     "data": {
      "text/plain": [
       "<metapy.stats.Multinomial {0: 0.246415, 1: 0.251515, 2: 0.216952, 3: 0.285118}>"
      ]
     },
     "execution_count": 19,
     "metadata": {},
     "output_type": "execute_result"
    }
   ],
   "source": [
    "model4.topic_distribution(0)"
   ]
  },
  {
   "cell_type": "code",
   "execution_count": 20,
   "metadata": {},
   "outputs": [
    {
     "data": {
      "text/plain": [
       "<metapy.stats.Multinomial {0: 0.053007, 1: 0.808034, 2: 0.048655, 3: 0.090303}>"
      ]
     },
     "execution_count": 20,
     "metadata": {},
     "output_type": "execute_result"
    }
   ],
   "source": [
    "model4.topic_distribution(1)"
   ]
  },
  {
   "cell_type": "code",
   "execution_count": 21,
   "metadata": {},
   "outputs": [
    {
     "data": {
      "text/plain": [
       "<metapy.stats.Multinomial {0: 0.011992, 1: 0.014706, 2: 0.960222, 3: 0.013080}>"
      ]
     },
     "execution_count": 21,
     "metadata": {},
     "output_type": "execute_result"
    }
   ],
   "source": [
    "model4.topic_distribution(1000)"
   ]
  },
  {
   "cell_type": "markdown",
   "metadata": {
    "collapsed": true
   },
   "source": [
    "### 5 Topics"
   ]
  },
  {
   "cell_type": "markdown",
   "metadata": {
    "collapsed": true
   },
   "source": [
    "lda_inf = metapy.topics.LDACollapsedVB(dset, num_topics=5, alpha=1.0, beta=0.01)\n",
    "lda_inf.run(num_iters=1000)\n",
    "lda_inf.save('lda-cvb5')"
   ]
  },
  {
   "cell_type": "code",
   "execution_count": 22,
   "metadata": {
    "collapsed": true
   },
   "outputs": [],
   "source": [
    "model5 = metapy.topics.TopicModel('lda-cvb5')"
   ]
  },
  {
   "cell_type": "code",
   "execution_count": 23,
   "metadata": {},
   "outputs": [
    {
     "data": {
      "text/plain": [
       "[('elect', 0.09402805252539857),\n",
       " ('parti', 0.061255731541558944),\n",
       " ('law', 0.04935793231729857),\n",
       " ('minist', 0.04833009845080838),\n",
       " ('serv', 0.0461625560452415),\n",
       " ('presid', 0.04502619524310325),\n",
       " ('offic', 0.03681100643725399),\n",
       " ('govern', 0.03355584984320714),\n",
       " ('polit', 0.03311922150551379),\n",
       " ('court', 0.031563272205838544)]"
      ]
     },
     "execution_count": 23,
     "metadata": {},
     "output_type": "execute_result"
    }
   ],
   "source": [
    "scorer = metapy.topics.BLTermScorer(model5)\n",
    "[(fidx.term_text(pr[0]), pr[1]) for pr in model5.top_k(tid=0, scorer=scorer)]"
   ]
  },
  {
   "cell_type": "code",
   "execution_count": 24,
   "metadata": {},
   "outputs": [
    {
     "data": {
      "text/plain": [
       "[('music', 0.11537995797231959),\n",
       " ('de', 0.1056276856532179),\n",
       " ('orchestra', 0.0568379965531669),\n",
       " ('opera', 0.03400856900748322),\n",
       " ('festiv', 0.03345632300655526),\n",
       " ('compos', 0.030808396671184294),\n",
       " ('perform', 0.029044416140327562),\n",
       " ('symphoni', 0.027859874111517163),\n",
       " ('la', 0.025826651890129605),\n",
       " ('studi', 0.02468028139541567)]"
      ]
     },
     "execution_count": 24,
     "metadata": {},
     "output_type": "execute_result"
    }
   ],
   "source": [
    "scorer = metapy.topics.BLTermScorer(model5)\n",
    "[(fidx.term_text(pr[0]), pr[1]) for pr in model5.top_k(tid=1, scorer=scorer)]"
   ]
  },
  {
   "cell_type": "code",
   "execution_count": 25,
   "metadata": {},
   "outputs": [
    {
     "data": {
      "text/plain": [
       "[('film', 0.10130643791742353),\n",
       " ('album', 0.08143328249030457),\n",
       " ('music', 0.06924231459357788),\n",
       " ('band', 0.059044115369419184),\n",
       " ('produc', 0.04569732762297925),\n",
       " ('televis', 0.04365450731640906),\n",
       " ('record', 0.04331922096896701),\n",
       " ('show', 0.03557488466836567),\n",
       " ('song', 0.03404206824626779),\n",
       " ('play', 0.03105612020944859)]"
      ]
     },
     "execution_count": 25,
     "metadata": {},
     "output_type": "execute_result"
    }
   ],
   "source": [
    "scorer = metapy.topics.BLTermScorer(model5)\n",
    "[(fidx.term_text(pr[0]), pr[1]) for pr in model5.top_k(tid=2, scorer=scorer)]"
   ]
  },
  {
   "cell_type": "code",
   "execution_count": 26,
   "metadata": {},
   "outputs": [
    {
     "data": {
      "text/plain": [
       "[('univers', 0.08358091778449737),\n",
       " ('book', 0.07911023180320091),\n",
       " ('research', 0.07563531853932073),\n",
       " ('professor', 0.04922177748029367),\n",
       " ('publish', 0.04646944049200874),\n",
       " ('scienc', 0.04630359797973105),\n",
       " ('art', 0.04627349679241953),\n",
       " ('journal', 0.03370901640501476),\n",
       " ('institut', 0.03032858327777639),\n",
       " ('studi', 0.02518318034482947)]"
      ]
     },
     "execution_count": 26,
     "metadata": {},
     "output_type": "execute_result"
    }
   ],
   "source": [
    "scorer = metapy.topics.BLTermScorer(model5)\n",
    "[(fidx.term_text(pr[0]), pr[1]) for pr in model5.top_k(tid=3, scorer=scorer)]"
   ]
  },
  {
   "cell_type": "code",
   "execution_count": 27,
   "metadata": {},
   "outputs": [
    {
     "data": {
      "text/plain": [
       "[('season', 0.13858336573129917),\n",
       " ('leagu', 0.12240739696593153),\n",
       " ('team', 0.10996020392373325),\n",
       " ('play', 0.1066592393061887),\n",
       " ('game', 0.09697900882056132),\n",
       " ('footbal', 0.08221036900352488),\n",
       " ('championship', 0.08107853407053334),\n",
       " ('coach', 0.07947565393641796),\n",
       " ('player', 0.04546182969943403),\n",
       " ('cup', 0.04532679535951356)]"
      ]
     },
     "execution_count": 27,
     "metadata": {},
     "output_type": "execute_result"
    }
   ],
   "source": [
    "scorer = metapy.topics.BLTermScorer(model5)\n",
    "[(fidx.term_text(pr[0]), pr[1]) for pr in model5.top_k(tid=4, scorer=scorer)]"
   ]
  },
  {
   "cell_type": "code",
   "execution_count": 28,
   "metadata": {},
   "outputs": [
    {
     "data": {
      "text/plain": [
       "<metapy.stats.Multinomial {0: 0.219876, 1: 0.118604, 2: 0.241416, 3: 0.218428, 4: 0.201676}>"
      ]
     },
     "execution_count": 28,
     "metadata": {},
     "output_type": "execute_result"
    }
   ],
   "source": [
    "model5.topic_distribution(0)"
   ]
  },
  {
   "cell_type": "code",
   "execution_count": 29,
   "metadata": {},
   "outputs": [
    {
     "data": {
      "text/plain": [
       "<metapy.stats.Multinomial {0: 0.035474, 1: 0.010497, 2: 0.132885, 3: 0.780242, 4: 0.040901}>"
      ]
     },
     "execution_count": 29,
     "metadata": {},
     "output_type": "execute_result"
    }
   ],
   "source": [
    "model5.topic_distribution(1)"
   ]
  },
  {
   "cell_type": "code",
   "execution_count": 30,
   "metadata": {},
   "outputs": [
    {
     "data": {
      "text/plain": [
       "<metapy.stats.Multinomial {0: 0.011898, 1: 0.015139, 2: 0.013069, 3: 0.014577, 4: 0.945317}>"
      ]
     },
     "execution_count": 30,
     "metadata": {},
     "output_type": "execute_result"
    }
   ],
   "source": [
    "model5.topic_distribution(1000)"
   ]
  },
  {
   "cell_type": "markdown",
   "metadata": {
    "collapsed": true
   },
   "source": [
    "### 6 Topics"
   ]
  },
  {
   "cell_type": "markdown",
   "metadata": {
    "collapsed": true
   },
   "source": [
    "lda_inf = metapy.topics.LDACollapsedVB(dset, num_topics=6, alpha=1.0, beta=0.01)\n",
    "lda_inf.run(num_iters=1000)\n",
    "lda_inf.save('lda-cvb6')"
   ]
  },
  {
   "cell_type": "code",
   "execution_count": 31,
   "metadata": {
    "collapsed": true
   },
   "outputs": [],
   "source": [
    "model6 = metapy.topics.TopicModel('lda-cvb6')"
   ]
  },
  {
   "cell_type": "code",
   "execution_count": 32,
   "metadata": {},
   "outputs": [
    {
     "data": {
      "text/plain": [
       "[('book', 0.09122978988199469),\n",
       " ('art', 0.07774735771650901),\n",
       " ('publish', 0.062183910688354826),\n",
       " ('film', 0.04770481248847509),\n",
       " ('writer', 0.04031926333130394),\n",
       " ('radio', 0.03679721092047794),\n",
       " ('stori', 0.03289908831482361),\n",
       " ('show', 0.03170251906795536),\n",
       " ('artist', 0.030566021020771435),\n",
       " ('write', 0.029884631186846807)]"
      ]
     },
     "execution_count": 32,
     "metadata": {},
     "output_type": "execute_result"
    }
   ],
   "source": [
    "scorer = metapy.topics.BLTermScorer(model6)\n",
    "[(fidx.term_text(pr[0]), pr[1]) for pr in model6.top_k(tid=0, scorer=scorer)]"
   ]
  },
  {
   "cell_type": "code",
   "execution_count": 33,
   "metadata": {},
   "outputs": [
    {
     "data": {
      "text/plain": [
       "[('music', 0.22116702911523822),\n",
       " ('album', 0.11056000297534128),\n",
       " ('film', 0.09279232056546949),\n",
       " ('band', 0.07919865090338994),\n",
       " ('record', 0.07679368053585776),\n",
       " ('song', 0.06537724753466923),\n",
       " ('play', 0.05010209540299292),\n",
       " ('releas', 0.043073652081674636),\n",
       " ('perform', 0.0430290796444075),\n",
       " ('produc', 0.04244285276787855)]"
      ]
     },
     "execution_count": 33,
     "metadata": {},
     "output_type": "execute_result"
    }
   ],
   "source": [
    "scorer = metapy.topics.BLTermScorer(model6)\n",
    "[(fidx.term_text(pr[0]), pr[1]) for pr in model6.top_k(tid=1, scorer=scorer)]"
   ]
  },
  {
   "cell_type": "code",
   "execution_count": 34,
   "metadata": {},
   "outputs": [
    {
     "data": {
      "text/plain": [
       "[('championship', 0.09848615031690944),\n",
       " ('race', 0.07813697195046698),\n",
       " ('finish', 0.0633107972733876),\n",
       " ('olymp', 0.06216091018002947),\n",
       " ('team', 0.05613488836996568),\n",
       " ('world', 0.05476068569019832),\n",
       " ('tour', 0.04392028448956867),\n",
       " ('won', 0.04306734701956039),\n",
       " ('compet', 0.0428066772320037),\n",
       " ('champion', 0.038972807451263636)]"
      ]
     },
     "execution_count": 34,
     "metadata": {},
     "output_type": "execute_result"
    }
   ],
   "source": [
    "scorer = metapy.topics.BLTermScorer(model6)\n",
    "[(fidx.term_text(pr[0]), pr[1]) for pr in model6.top_k(tid=2, scorer=scorer)]"
   ]
  },
  {
   "cell_type": "code",
   "execution_count": 35,
   "metadata": {},
   "outputs": [
    {
     "data": {
      "text/plain": [
       "[('univers', 0.13075887413896226),\n",
       " ('research', 0.09974359363207341),\n",
       " ('professor', 0.08490185067956768),\n",
       " ('scienc', 0.058938681151420085),\n",
       " ('institut', 0.050356936044012215),\n",
       " ('studi', 0.039614597478368374),\n",
       " ('technolog', 0.034733736822351924),\n",
       " ('presid', 0.030895362134797377),\n",
       " ('phd', 0.03059457265874125),\n",
       " ('serv', 0.030507887937343714)]"
      ]
     },
     "execution_count": 35,
     "metadata": {},
     "output_type": "execute_result"
    }
   ],
   "source": [
    "scorer = metapy.topics.BLTermScorer(model6)\n",
    "[(fidx.term_text(pr[0]), pr[1]) for pr in model6.top_k(tid=3, scorer=scorer)]"
   ]
  },
  {
   "cell_type": "code",
   "execution_count": 36,
   "metadata": {},
   "outputs": [
    {
     "data": {
      "text/plain": [
       "[('elect', 0.10896889436264375),\n",
       " ('parti', 0.0820565164972183),\n",
       " ('serv', 0.06926968052954008),\n",
       " ('minist', 0.05759188461525942),\n",
       " ('presid', 0.05213667593509719),\n",
       " ('law', 0.04666473580216627),\n",
       " ('govern', 0.043787950741343146),\n",
       " ('offic', 0.04086710878590989),\n",
       " ('court', 0.03732182242149534),\n",
       " ('democrat', 0.03415061598505187)]"
      ]
     },
     "execution_count": 36,
     "metadata": {},
     "output_type": "execute_result"
    }
   ],
   "source": [
    "scorer = metapy.topics.BLTermScorer(model6)\n",
    "[(fidx.term_text(pr[0]), pr[1]) for pr in model6.top_k(tid=4, scorer=scorer)]"
   ]
  },
  {
   "cell_type": "code",
   "execution_count": 37,
   "metadata": {},
   "outputs": [
    {
     "data": {
      "text/plain": [
       "[('play', 0.19786651966745958),\n",
       " ('season', 0.18355921906020667),\n",
       " ('leagu', 0.18101800834422105),\n",
       " ('game', 0.13428319489899204),\n",
       " ('footbal', 0.12117687259699395),\n",
       " ('team', 0.10983019769016403),\n",
       " ('coach', 0.09574775920276904),\n",
       " ('player', 0.0677646616185766),\n",
       " ('club', 0.050191573068551154),\n",
       " ('basebal', 0.046543849393005925)]"
      ]
     },
     "execution_count": 37,
     "metadata": {},
     "output_type": "execute_result"
    }
   ],
   "source": [
    "scorer = metapy.topics.BLTermScorer(model6)\n",
    "[(fidx.term_text(pr[0]), pr[1]) for pr in model6.top_k(tid=5, scorer=scorer)]"
   ]
  },
  {
   "cell_type": "code",
   "execution_count": 38,
   "metadata": {},
   "outputs": [
    {
     "data": {
      "text/plain": [
       "<metapy.stats.Multinomial {0: 0.185898, 1: 0.192525, 2: 0.109879, 3: 0.175248, 4: 0.191798, 5: 0.144652}>"
      ]
     },
     "execution_count": 38,
     "metadata": {},
     "output_type": "execute_result"
    }
   ],
   "source": [
    "model6.topic_distribution(0)"
   ]
  },
  {
   "cell_type": "code",
   "execution_count": 39,
   "metadata": {},
   "outputs": [
    {
     "data": {
      "text/plain": [
       "<metapy.stats.Multinomial {0: 0.174398, 1: 0.045119, 2: 0.040860, 3: 0.692994, 4: 0.018971, 5: 0.027657}>"
      ]
     },
     "execution_count": 39,
     "metadata": {},
     "output_type": "execute_result"
    }
   ],
   "source": [
    "model6.topic_distribution(1)"
   ]
  },
  {
   "cell_type": "code",
   "execution_count": 40,
   "metadata": {},
   "outputs": [
    {
     "data": {
      "text/plain": [
       "<metapy.stats.Multinomial {0: 0.015666, 1: 0.012595, 2: 0.810583, 3: 0.012592, 4: 0.011867, 5: 0.136697}>"
      ]
     },
     "execution_count": 40,
     "metadata": {},
     "output_type": "execute_result"
    }
   ],
   "source": [
    "model6.topic_distribution(1000)"
   ]
  },
  {
   "cell_type": "code",
   "execution_count": 43,
   "metadata": {},
   "outputs": [
    {
     "data": {
      "text/plain": [
       "[(283479, 0.01837600704545592),\n",
       " (350829, 0.010710558089839957),\n",
       " (148007, 0.009966988540180815),\n",
       " (320320, 0.009620704413100957),\n",
       " (10135, 0.00942867453648292),\n",
       " (353600, 0.007780390642744302),\n",
       " (327105, 0.007142555191344174),\n",
       " (35374, 0.006953586256792378),\n",
       " (337812, 0.005946617354246661),\n",
       " (395908, 0.005887835221251912)]"
      ]
     },
     "execution_count": 43,
     "metadata": {},
     "output_type": "execute_result"
    }
   ],
   "source": [
    "model6.top_k(1)"
   ]
  }
 ],
 "metadata": {
  "kernelspec": {
   "display_name": "Python 2",
   "language": "python",
   "name": "python2"
  },
  "language_info": {
   "codemirror_mode": {
    "name": "ipython",
    "version": 2
   },
   "file_extension": ".py",
   "mimetype": "text/x-python",
   "name": "python",
   "nbconvert_exporter": "python",
   "pygments_lexer": "ipython2",
   "version": "2.7.13"
  }
 },
 "nbformat": 4,
 "nbformat_minor": 2
}
